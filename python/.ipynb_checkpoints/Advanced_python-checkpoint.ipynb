{
 "cells": [
  {
   "cell_type": "code",
   "execution_count": 14,
   "metadata": {
    "collapsed": true
   },
   "outputs": [],
   "source": [
    "import pandas as pd\n",
    "from collections import Counter, OrderedDict\n",
    "from operator import itemgetter"
   ]
  },
  {
   "cell_type": "markdown",
   "metadata": {},
   "source": [
    "# Part I - Regular Expressions"
   ]
  },
  {
   "cell_type": "code",
   "execution_count": 2,
   "metadata": {
    "collapsed": false
   },
   "outputs": [
    {
     "data": {
      "text/html": [
       "<div>\n",
       "<table border=\"1\" class=\"dataframe\">\n",
       "  <thead>\n",
       "    <tr style=\"text-align: right;\">\n",
       "      <th></th>\n",
       "      <th>name</th>\n",
       "      <th>degree</th>\n",
       "      <th>title</th>\n",
       "      <th>email</th>\n",
       "    </tr>\n",
       "  </thead>\n",
       "  <tbody>\n",
       "    <tr>\n",
       "      <th>0</th>\n",
       "      <td>Scarlett L. Bellamy</td>\n",
       "      <td>Sc.D.</td>\n",
       "      <td>Associate Professor of Biostatistics</td>\n",
       "      <td>bellamys@mail.med.upenn.edu</td>\n",
       "    </tr>\n",
       "    <tr>\n",
       "      <th>1</th>\n",
       "      <td>Warren B. Bilker</td>\n",
       "      <td>Ph.D.</td>\n",
       "      <td>Professor of Biostatistics</td>\n",
       "      <td>warren@upenn.edu</td>\n",
       "    </tr>\n",
       "    <tr>\n",
       "      <th>2</th>\n",
       "      <td>Matthew W Bryan</td>\n",
       "      <td>PhD</td>\n",
       "      <td>Assistant Professor of Biostatistics</td>\n",
       "      <td>bryanma@upenn.edu</td>\n",
       "    </tr>\n",
       "  </tbody>\n",
       "</table>\n",
       "</div>"
      ],
      "text/plain": [
       "                  name  degree                                 title  \\\n",
       "0  Scarlett L. Bellamy   Sc.D.  Associate Professor of Biostatistics   \n",
       "1     Warren B. Bilker   Ph.D.            Professor of Biostatistics   \n",
       "2      Matthew W Bryan     PhD  Assistant Professor of Biostatistics   \n",
       "\n",
       "                         email  \n",
       "0  bellamys@mail.med.upenn.edu  \n",
       "1             warren@upenn.edu  \n",
       "2            bryanma@upenn.edu  "
      ]
     },
     "execution_count": 2,
     "metadata": {},
     "output_type": "execute_result"
    }
   ],
   "source": [
    "df = pd.read_csv(\"faculty.csv\")\n",
    "df[:3]"
   ]
  },
  {
   "cell_type": "markdown",
   "metadata": {},
   "source": [
    "## Q1. Find how many different degrees there are, and their frequencies: Ex: PhD, ScD, MD, MPH, BSEd, MS, JD, etc."
   ]
  },
  {
   "cell_type": "code",
   "execution_count": 3,
   "metadata": {
    "collapsed": false
   },
   "outputs": [
    {
     "data": {
      "text/html": [
       "<div>\n",
       "<table border=\"1\" class=\"dataframe\">\n",
       "  <thead>\n",
       "    <tr style=\"text-align: right;\">\n",
       "      <th></th>\n",
       "      <th>name</th>\n",
       "      <th>degree</th>\n",
       "      <th>title</th>\n",
       "      <th>email</th>\n",
       "      <th>Degree</th>\n",
       "    </tr>\n",
       "  </thead>\n",
       "  <tbody>\n",
       "    <tr>\n",
       "      <th>0</th>\n",
       "      <td>Scarlett L. Bellamy</td>\n",
       "      <td>Sc.D.</td>\n",
       "      <td>Associate Professor of Biostatistics</td>\n",
       "      <td>bellamys@mail.med.upenn.edu</td>\n",
       "      <td>scd</td>\n",
       "    </tr>\n",
       "    <tr>\n",
       "      <th>1</th>\n",
       "      <td>Warren B. Bilker</td>\n",
       "      <td>Ph.D.</td>\n",
       "      <td>Professor of Biostatistics</td>\n",
       "      <td>warren@upenn.edu</td>\n",
       "      <td>phd</td>\n",
       "    </tr>\n",
       "    <tr>\n",
       "      <th>2</th>\n",
       "      <td>Matthew W Bryan</td>\n",
       "      <td>PhD</td>\n",
       "      <td>Assistant Professor of Biostatistics</td>\n",
       "      <td>bryanma@upenn.edu</td>\n",
       "      <td>phd</td>\n",
       "    </tr>\n",
       "  </tbody>\n",
       "</table>\n",
       "</div>"
      ],
      "text/plain": [
       "                  name  degree                                 title  \\\n",
       "0  Scarlett L. Bellamy   Sc.D.  Associate Professor of Biostatistics   \n",
       "1     Warren B. Bilker   Ph.D.            Professor of Biostatistics   \n",
       "2      Matthew W Bryan     PhD  Assistant Professor of Biostatistics   \n",
       "\n",
       "                         email Degree  \n",
       "0  bellamys@mail.med.upenn.edu    scd  \n",
       "1             warren@upenn.edu    phd  \n",
       "2            bryanma@upenn.edu    phd  "
      ]
     },
     "execution_count": 3,
     "metadata": {},
     "output_type": "execute_result"
    }
   ],
   "source": [
    "df['Degree'] = df[' degree'].str.replace('.','').str.lower()\n",
    "df[:3]"
   ]
  },
  {
   "cell_type": "code",
   "execution_count": 4,
   "metadata": {
    "collapsed": false
   },
   "outputs": [
    {
     "data": {
      "text/plain": [
       "{'0': 1,\n",
       " 'bsed': 1,\n",
       " 'jd': 1,\n",
       " 'ma': 1,\n",
       " 'md': 1,\n",
       " 'mph': 2,\n",
       " 'ms': 2,\n",
       " 'phd': 31,\n",
       " 'scd': 6}"
      ]
     },
     "execution_count": 4,
     "metadata": {},
     "output_type": "execute_result"
    }
   ],
   "source": [
    "list_degrees = list(df['Degree'])\n",
    "degrees = [item.split() for item in list_degrees]\n",
    "deg = [degree for item in degrees for degree in item]\n",
    "\n",
    "dict_degrees  = dict(Counter(deg))\n",
    "dict_degrees"
   ]
  },
  {
   "cell_type": "markdown",
   "metadata": {},
   "source": [
    "## Q2. Find how many different titles there are, and their frequencies: Ex: Assistant Professor, Professor"
   ]
  },
  {
   "cell_type": "code",
   "execution_count": 5,
   "metadata": {
    "collapsed": false
   },
   "outputs": [
    {
     "data": {
      "text/plain": [
       "Professor of Biostatistics              13\n",
       "Assistant Professor of Biostatistics    12\n",
       "Associate Professor of Biostatistics    12\n",
       "Name:  title, dtype: int64"
      ]
     },
     "execution_count": 5,
     "metadata": {},
     "output_type": "execute_result"
    }
   ],
   "source": [
    "df[' title'].value_counts()"
   ]
  },
  {
   "cell_type": "markdown",
   "metadata": {},
   "source": [
    "## Q3. Search for email addresses and put them in a list. Print the list of email addresses."
   ]
  },
  {
   "cell_type": "code",
   "execution_count": 6,
   "metadata": {
    "collapsed": false
   },
   "outputs": [
    {
     "data": {
      "text/plain": [
       "['bellamys@mail.med.upenn.edu', 'warren@upenn.edu', 'bryanma@upenn.edu']"
      ]
     },
     "execution_count": 6,
     "metadata": {},
     "output_type": "execute_result"
    }
   ],
   "source": [
    "list_emails = list(df[' email'])\n",
    "list_emails[:3]"
   ]
  },
  {
   "cell_type": "markdown",
   "metadata": {},
   "source": [
    "## Q4. Find how many different email domains there are (Ex: mail.med.upenn.edu, upenn.edu, email.chop.edu, etc.). Print the list of unique email domains."
   ]
  },
  {
   "cell_type": "code",
   "execution_count": 7,
   "metadata": {
    "collapsed": false
   },
   "outputs": [
    {
     "data": {
      "text/plain": [
       "{'cceb.med.upenn.edu': 1,\n",
       " 'email.chop.edu': 1,\n",
       " 'mail.med.upenn.edu': 23,\n",
       " 'upenn.edu': 12}"
      ]
     },
     "execution_count": 7,
     "metadata": {},
     "output_type": "execute_result"
    }
   ],
   "source": [
    "domains = [email[email.find('@')+1:] for email in list_emails]\n",
    "dict(Counter(domains))"
   ]
  },
  {
   "cell_type": "markdown",
   "metadata": {},
   "source": [
    "# Part II - Write to CSV File"
   ]
  },
  {
   "cell_type": "markdown",
   "metadata": {},
   "source": [
    "## Q5. Write email addresses from Part I to csv file"
   ]
  },
  {
   "cell_type": "code",
   "execution_count": 8,
   "metadata": {
    "collapsed": true
   },
   "outputs": [],
   "source": [
    "df[' email'].to_csv('emails.csv', index = False)"
   ]
  },
  {
   "cell_type": "markdown",
   "metadata": {},
   "source": [
    "# Part III - Dictionary"
   ]
  },
  {
   "cell_type": "markdown",
   "metadata": {},
   "source": [
    "## Q6. Create a dictionary in the below format:\n",
    "```\n",
    "faculty_dict = { 'Ellenberg': [\\\n",
    "              ['Ph.D.', 'Professor', 'sellenbe@upenn.edu'],\\\n",
    "              ['Ph.D.', 'Professor', 'jellenbe@mail.med.upenn.edu']\n",
    "                            ],\n",
    "              'Li': [\\\n",
    "              ['Ph.D.', 'Assistant Professor', 'liy3@email.chop.edu'],\\\n",
    "              ['Ph.D.', 'Associate Professor', 'mingyao@mail.med.upenn.edu'],\\\n",
    "              ['Ph.D.', 'Professor', 'hongzhe@upenn.edu']\n",
    "                            ]\n",
    "            }\n",
    "```"
   ]
  },
  {
   "cell_type": "code",
   "execution_count": 9,
   "metadata": {
    "collapsed": true
   },
   "outputs": [],
   "source": [
    "df = pd.read_csv('faculty.csv')\n",
    "df_list = list(map(list, df.values))"
   ]
  },
  {
   "cell_type": "code",
   "execution_count": 10,
   "metadata": {
    "collapsed": false
   },
   "outputs": [],
   "source": [
    "for person in df_list:\n",
    "    title = person[2].find(\"Professor\") + 9\n",
    "    person[2] = person[2][:title]\n",
    "    person[0] = person[0].split()"
   ]
  },
  {
   "cell_type": "code",
   "execution_count": 11,
   "metadata": {
    "collapsed": false
   },
   "outputs": [
    {
     "data": {
      "text/plain": [
       "[('Xie',\n",
       "  [[' Ph.D.', 'Associate Professor', 'sxie@mail.med.upenn.edu'],\n",
       "   [' PhD', 'Assistant Professor', 'dxie@upenn.edu']]),\n",
       " ('Roy', [' Ph.D.', 'Associate Professor', 'jaroy@mail.med.upenn.edu']),\n",
       " ('Joffe', [' MD MPH Ph.D', 'Professor', 'mjoffe@mail.med.upenn.edu'])]"
      ]
     },
     "execution_count": 11,
     "metadata": {},
     "output_type": "execute_result"
    }
   ],
   "source": [
    "faculty_dict = {}\n",
    "for person in df_list:\n",
    "    last = person[0][len(person[0])-1]\n",
    "    if last not in faculty_dict:\n",
    "        faculty_dict[last] = person[1:]\n",
    "    elif len(faculty_dict[last]) == 3:\n",
    "        first, faculty_dict[last] = faculty_dict[last], []\n",
    "        faculty_dict[last].append(first)\n",
    "        faculty_dict[last].append(person[1:])\n",
    "    else:\n",
    "        faculty_dict[last].append(person[1:])\n",
    "\n",
    "list(faculty_dict.items())[:3]"
   ]
  },
  {
   "cell_type": "markdown",
   "metadata": {},
   "source": [
    "## Q7. The previous dictionary does not have the best design for keys. Create a new dictionary with keys as:\n",
    "\n",
    "```\n",
    "professor_dict = {('Susan', 'Ellenberg'): ['Ph.D.', 'Professor', 'sellenbe@upenn.edu'],\\\n",
    "                ('Jonas', 'Ellenberg'): ['Ph.D.', 'Professor', 'jellenbe@mail.med.upenn.edu'],\\\n",
    "                ('Yimei', 'Li'): ['Ph.D.', 'Assistant Professor', 'liy3@email.chop.edu'],\\\n",
    "                ('Mingyao','Li'): ['Ph.D.', 'Associate Professor', 'mingyao@mail.med.upenn.edu'],\\\n",
    "                ('Hongzhe','Li'): ['Ph.D.', 'Professor', 'hongzhe@upenn.edu']\n",
    "            }\n",
    "```"
   ]
  },
  {
   "cell_type": "code",
   "execution_count": 12,
   "metadata": {
    "collapsed": false
   },
   "outputs": [
    {
     "data": {
      "text/plain": [
       "[(('Wei-Ting', 'Hwang'),\n",
       "  [' Ph.D.', 'Associate Professor', 'whwang@mail.med.upenn.edu']),\n",
       " (('Dawei', 'Xie'), [' PhD', 'Assistant Professor', 'dxie@upenn.edu']),\n",
       " (('Mingyao', 'Li'),\n",
       "  [' Ph.D.', 'Associate Professor', 'mingyao@mail.med.upenn.edu'])]"
      ]
     },
     "execution_count": 12,
     "metadata": {},
     "output_type": "execute_result"
    }
   ],
   "source": [
    "professor_dict = {(\" \".join(person[0][:len(person[0])-1]), person[0][-1]): person[1:] for person in df_list}\n",
    "list(professor_dict.items())[:3]"
   ]
  },
  {
   "cell_type": "markdown",
   "metadata": {},
   "source": [
    "## Q8. It looks like the current dictionary is printing by first name. Sort by last name and print the first 3 key and value pairs."
   ]
  },
  {
   "cell_type": "code",
   "execution_count": 29,
   "metadata": {
    "collapsed": false
   },
   "outputs": [
    {
     "data": {
      "text/plain": [
       "[(('Scarlett L.', 'Bellamy'),\n",
       "  [' Sc.D.', 'Associate Professor', 'bellamys@mail.med.upenn.edu']),\n",
       " (('Warren B.', 'Bilker'), ['Ph.D.', 'Professor', 'warren@upenn.edu']),\n",
       " (('Matthew W', 'Bryan'),\n",
       "  [' PhD', 'Assistant Professor', 'bryanma@upenn.edu'])]"
      ]
     },
     "execution_count": 29,
     "metadata": {},
     "output_type": "execute_result"
    }
   ],
   "source": [
    "sorted(professor_dict.items(), key = lambda name: name[0][1])[:3]"
   ]
  }
 ],
 "metadata": {
  "kernelspec": {
   "display_name": "Python 3",
   "language": "python",
   "name": "python3"
  },
  "language_info": {
   "codemirror_mode": {
    "name": "ipython",
    "version": 3
   },
   "file_extension": ".py",
   "mimetype": "text/x-python",
   "name": "python",
   "nbconvert_exporter": "python",
   "pygments_lexer": "ipython3",
   "version": "3.5.0"
  }
 },
 "nbformat": 4,
 "nbformat_minor": 0
}
